{
 "cells": [
  {
   "cell_type": "markdown",
   "id": "ec575b09-84ae-41bb-8c00-b4948ffc3f26",
   "metadata": {},
   "source": [
    "### 1.Download the required installation package"
   ]
  },
  {
   "cell_type": "code",
   "execution_count": 2,
   "id": "84fb8971-183c-4e9a-9cc3-8c2cca404a2d",
   "metadata": {
    "scrolled": true
   },
   "outputs": [
    {
     "name": "stdout",
     "output_type": "stream",
     "text": [
      "Collecting pybliometrics\n",
      "  Downloading pybliometrics-4.1-py2.py3-none-any.whl (77 kB)\n",
      "\u001b[K     |████████████████████████████████| 77 kB 920 kB/s eta 0:00:011\n",
      "\u001b[?25hRequirement already satisfied: urllib3 in /usr/local/lib/python3.9/dist-packages (from pybliometrics) (2.0.6)\n",
      "Collecting tqdm\n",
      "  Downloading tqdm-4.66.6-py3-none-any.whl (78 kB)\n",
      "\u001b[K     |████████████████████████████████| 78 kB 1.4 MB/s  eta 0:00:01\n",
      "\u001b[?25hRequirement already satisfied: requests in /usr/local/lib/python3.9/dist-packages (from pybliometrics) (2.31.0)\n",
      "Requirement already satisfied: charset-normalizer<4,>=2 in /usr/local/lib/python3.9/dist-packages (from requests->pybliometrics) (3.3.0)\n",
      "Requirement already satisfied: idna<4,>=2.5 in /usr/local/lib/python3.9/dist-packages (from requests->pybliometrics) (3.4)\n",
      "Requirement already satisfied: certifi>=2017.4.17 in /usr/local/lib/python3.9/dist-packages (from requests->pybliometrics) (2023.7.22)\n",
      "Installing collected packages: tqdm, pybliometrics\n",
      "Successfully installed pybliometrics-4.1 tqdm-4.66.6\n",
      "Note: you may need to restart the kernel to use updated packages.\n"
     ]
    }
   ],
   "source": [
    "pip install pybliometrics"
   ]
  },
  {
   "cell_type": "code",
   "execution_count": 10,
   "id": "9d587003-f124-437f-b0ca-408d27b721e1",
   "metadata": {},
   "outputs": [],
   "source": [
    "from pybliometrics.scopus import ScopusSearch, AbstractRetrieval"
   ]
  },
  {
   "cell_type": "code",
   "execution_count": 14,
   "id": "400bdc71-e242-49d2-9680-1228e484cd3f",
   "metadata": {},
   "outputs": [
    {
     "name": "stdout",
     "output_type": "stream",
     "text": [
      "Requirement already satisfied: nltk in /usr/local/lib/python3.9/dist-packages (3.9.1)\n",
      "Requirement already satisfied: joblib in /usr/local/lib/python3.9/dist-packages (from nltk) (1.4.2)\n",
      "Requirement already satisfied: regex>=2021.8.3 in /usr/local/lib/python3.9/dist-packages (from nltk) (2024.9.11)\n",
      "Requirement already satisfied: click in /usr/local/lib/python3.9/dist-packages (from nltk) (8.1.7)\n",
      "Requirement already satisfied: tqdm in /usr/local/lib/python3.9/dist-packages (from nltk) (4.66.6)\n",
      "Note: you may need to restart the kernel to use updated packages.\n"
     ]
    }
   ],
   "source": [
    "pip install nltk"
   ]
  },
  {
   "cell_type": "code",
   "execution_count": 8,
   "id": "0c91204b-4b59-4745-99b3-6ed53bea59ff",
   "metadata": {
    "scrolled": true
   },
   "outputs": [
    {
     "name": "stdout",
     "output_type": "stream",
     "text": [
      "Collecting gensim\n",
      "  Downloading gensim-4.3.3-cp39-cp39-manylinux_2_17_x86_64.manylinux2014_x86_64.whl (26.6 MB)\n",
      "\u001b[K     |████████████████████████████████| 26.6 MB 19.2 MB/s eta 0:00:01\n",
      "\u001b[?25hCollecting smart-open>=1.8.1\n",
      "  Downloading smart_open-7.0.5-py3-none-any.whl (61 kB)\n",
      "\u001b[K     |████████████████████████████████| 61 kB 2.2 MB/s  eta 0:00:01\n",
      "\u001b[?25hCollecting scipy<1.14.0,>=1.7.0\n",
      "  Downloading scipy-1.13.1-cp39-cp39-manylinux_2_17_x86_64.manylinux2014_x86_64.whl (38.6 MB)\n",
      "\u001b[K     |████████████████████████████████| 38.6 MB 17.8 MB/s eta 0:00:01   |█████▏                          | 6.3 MB 8.9 MB/s eta 0:00:04\n",
      "\u001b[?25hCollecting numpy<2.0,>=1.18.5\n",
      "  Downloading numpy-1.26.4-cp39-cp39-manylinux_2_17_x86_64.manylinux2014_x86_64.whl (18.2 MB)\n",
      "\u001b[K     |████████████████████████████████| 18.2 MB 17.8 MB/s eta 0:00:01   |█████████                       | 5.1 MB 6.8 MB/s eta 0:00:02\n",
      "\u001b[?25hCollecting wrapt\n",
      "  Downloading wrapt-1.16.0-cp39-cp39-manylinux_2_5_x86_64.manylinux1_x86_64.manylinux_2_17_x86_64.manylinux2014_x86_64.whl (80 kB)\n",
      "\u001b[K     |████████████████████████████████| 80 kB 2.1 MB/s  eta 0:00:01\n",
      "\u001b[?25hInstalling collected packages: wrapt, numpy, smart-open, scipy, gensim\n",
      "Successfully installed gensim-4.3.3 numpy-1.26.4 scipy-1.13.1 smart-open-7.0.5 wrapt-1.16.0\n"
     ]
    }
   ],
   "source": [
    "!pip install gensim"
   ]
  },
  {
   "cell_type": "markdown",
   "id": "2e627093-9170-499b-a816-19e9873eb261",
   "metadata": {},
   "source": [
    "# 1.Sort vocabulary.txt"
   ]
  },
  {
   "cell_type": "code",
   "execution_count": 5,
   "id": "e02335fa-d147-48e7-8c33-4137171ef77f",
   "metadata": {},
   "outputs": [
    {
     "name": "stderr",
     "output_type": "stream",
     "text": [
      "[nltk_data] Downloading package stopwords to /root/nltk_data...\n",
      "[nltk_data]   Package stopwords is already up-to-date!\n",
      "[nltk_data] Downloading package punkt to /root/nltk_data...\n",
      "[nltk_data]   Package punkt is already up-to-date!\n"
     ]
    },
    {
     "name": "stdout",
     "output_type": "stream",
     "text": [
      "success\n"
     ]
    }
   ],
   "source": [
    "def sort_final_combined_dict(input_filename):\n",
    "    data = {}\n",
    "    with open(input_filename, 'r', encoding='utf-8') as f:\n",
    "        for line in f:\n",
    "            parts = line.strip().split()\n",
    "            if len(parts) != 2:\n",
    "                continue\n",
    "            key, value_str = parts\n",
    "            try:\n",
    "                value = int(value_str)\n",
    "            except ValueError:\n",
    "                continue\n",
    "            data[key] = value\n",
    "    # 按值降序排序\n",
    "    sorted_items = sorted(data.items(), key=lambda x: x[1], reverse=True)\n",
    "    return sorted_items\n",
    "\n",
    "if __name__ == '__main__':\n",
    "    input_filename = \"final_combined_dict.txt\"\n",
    "    output_filename = \"sorted_final_combined_dict.txt\"\n",
    "    sorted_dict = sort_final_combined_dict(input_filename)\n",
    "    \n",
    "    with open(output_filename, 'w', encoding='utf-8') as out:\n",
    "        for key, value in sorted_dict:\n",
    "            out.write(f\"{key} {value}\\n\")\n",
    "            \n"
   ]
  },
  {
   "cell_type": "markdown",
   "id": "0daafac7-dd49-4b19-9f2b-870b866abb7e",
   "metadata": {},
   "source": [
    "### Training Word2Vec Model"
   ]
  },
  {
   "cell_type": "code",
   "execution_count": 2,
   "id": "5c45d3ec-9e18-468a-bdee-121a270195ca",
   "metadata": {},
   "outputs": [],
   "source": [
    "#  Import the gensim library\n",
    "import gensim\n",
    "from gensim.models import Word2Vec\n",
    "import logging\n",
    "\n",
    "# Input vocabulary.txt file\n",
    "# Assume each line contains a word or phrase, separate the words in each line with spaces.\n",
    "with open('sorted_final_combined_dict.txt', 'r', encoding='utf-8') as f:\n",
    "    sentences = [line.strip().split() for line in f]\n",
    "\n",
    "# Training the Word2Vec model\n",
    "model = Word2Vec(sentences, vector_size=100, window=5, min_count=1, workers=4)\n",
    "\n",
    "# Output embedding_vec.emb\n",
    "model.wv.save_word2vec_format('sorted_final_combined_dict.emb', binary=False)\n"
   ]
  },
  {
   "cell_type": "code",
   "execution_count": 4,
   "id": "d563cc13-c533-41ed-a2fe-13b429662cc6",
   "metadata": {},
   "outputs": [],
   "source": [
    "#LOAD Word2vec model\n",
    "model = gensim.models.KeyedVectors.load_word2vec_format(fname='sorted_final_combined_dict.emb', unicode_errors='strict')"
   ]
  },
  {
   "cell_type": "code",
   "execution_count": 9,
   "id": "a8d5b793-1788-4118-b3bc-9868f23a9793",
   "metadata": {},
   "outputs": [
    {
     "data": {
      "text/plain": [
       "[('20th', 0.3473949432373047),\n",
       " ('apply', 0.3407224416732788),\n",
       " ('odds', 0.3307487964630127),\n",
       " ('reinvention', 0.32761314511299133)]"
      ]
     },
     "execution_count": 9,
     "metadata": {},
     "output_type": "execute_result"
    }
   ],
   "source": [
    "#example: \n",
    "model.most_similar([\"mental\"], topn=4)"
   ]
  },
  {
   "cell_type": "markdown",
   "id": "fae44646-ec56-4470-befc-7903476f5ae5",
   "metadata": {},
   "source": [
    "### Generate Bookmark.json"
   ]
  },
  {
   "cell_type": "code",
   "execution_count": 8,
   "id": "c0b5a0f3-da0d-45c8-a381-0c14a81ab65d",
   "metadata": {},
   "outputs": [
    {
     "name": "stdout",
     "output_type": "stream",
     "text": [
      "Requirement already satisfied: scikit-learn in d:\\users\\changda ma\\anaconda3\\lib\\site-packages (1.5.1)\n",
      "Requirement already satisfied: numpy>=1.19.5 in d:\\users\\changda ma\\anaconda3\\lib\\site-packages (from scikit-learn) (1.26.4)\n",
      "Requirement already satisfied: scipy>=1.6.0 in d:\\users\\changda ma\\anaconda3\\lib\\site-packages (from scikit-learn) (1.13.1)\n",
      "Requirement already satisfied: joblib>=1.2.0 in d:\\users\\changda ma\\anaconda3\\lib\\site-packages (from scikit-learn) (1.4.2)\n",
      "Requirement already satisfied: threadpoolctl>=3.1.0 in d:\\users\\changda ma\\anaconda3\\lib\\site-packages (from scikit-learn) (3.5.0)\n",
      "Collecting umap-learn\n",
      "  Downloading umap_learn-0.5.7-py3-none-any.whl.metadata (21 kB)\n",
      "Requirement already satisfied: numpy>=1.17 in d:\\users\\changda ma\\anaconda3\\lib\\site-packages (from umap-learn) (1.26.4)\n",
      "Requirement already satisfied: scipy>=1.3.1 in d:\\users\\changda ma\\anaconda3\\lib\\site-packages (from umap-learn) (1.13.1)\n",
      "Requirement already satisfied: scikit-learn>=0.22 in d:\\users\\changda ma\\anaconda3\\lib\\site-packages (from umap-learn) (1.5.1)\n",
      "Requirement already satisfied: numba>=0.51.2 in d:\\users\\changda ma\\anaconda3\\lib\\site-packages (from umap-learn) (0.60.0)\n",
      "Collecting pynndescent>=0.5 (from umap-learn)\n",
      "  Downloading pynndescent-0.5.13-py3-none-any.whl.metadata (6.8 kB)\n",
      "Requirement already satisfied: tqdm in d:\\users\\changda ma\\anaconda3\\lib\\site-packages (from umap-learn) (4.66.5)\n",
      "Requirement already satisfied: llvmlite<0.44,>=0.43.0dev0 in d:\\users\\changda ma\\anaconda3\\lib\\site-packages (from numba>=0.51.2->umap-learn) (0.43.0)\n",
      "Requirement already satisfied: joblib>=0.11 in d:\\users\\changda ma\\anaconda3\\lib\\site-packages (from pynndescent>=0.5->umap-learn) (1.4.2)\n",
      "Requirement already satisfied: threadpoolctl>=3.1.0 in d:\\users\\changda ma\\anaconda3\\lib\\site-packages (from scikit-learn>=0.22->umap-learn) (3.5.0)\n",
      "Requirement already satisfied: colorama in c:\\users\\changda ma\\appdata\\roaming\\python\\python312\\site-packages (from tqdm->umap-learn) (0.4.6)\n",
      "Downloading umap_learn-0.5.7-py3-none-any.whl (88 kB)\n",
      "Downloading pynndescent-0.5.13-py3-none-any.whl (56 kB)\n",
      "Installing collected packages: pynndescent, umap-learn\n",
      "Successfully installed pynndescent-0.5.13 umap-learn-0.5.7\n"
     ]
    }
   ],
   "source": [
    "!pip install scikit-learn\n",
    "!pip install umap-learn"
   ]
  },
  {
   "cell_type": "code",
   "execution_count": 11,
   "id": "77859d5c-6b0f-4ea2-8ed0-16d113789166",
   "metadata": {},
   "outputs": [
    {
     "name": "stdout",
     "output_type": "stream",
     "text": [
      "Embeddings shape: (3638, 100)\n"
     ]
    },
    {
     "name": "stderr",
     "output_type": "stream",
     "text": [
      "D:\\Users\\Changda Ma\\anaconda3\\Lib\\site-packages\\sklearn\\manifold\\_t_sne.py:1162: FutureWarning: 'n_iter' was renamed to 'max_iter' in version 1.5 and will be removed in 1.7.\n",
      "  warnings.warn(\n"
     ]
    }
   ],
   "source": [
    "import gensim\n",
    "import json\n",
    "import numpy as np\n",
    "from sklearn.decomposition import PCA\n",
    "from sklearn.manifold import TSNE\n",
    "import umap\n",
    "import re \n",
    "\n",
    "# 1. input embedding_vec.emb\n",
    "embedding_file = \"sorted_final_combined_dict.emb\"\n",
    "model = gensim.models.KeyedVectors.load_word2vec_format(embedding_file, binary=False)\n",
    "\n",
    "\n",
    "# 2. Load the vocabulary from the vocabulary.txt file, extract only the word parts, and remove additional information such as numbers\n",
    "with open(\"sorted_final_combined_dict.txt\", \"r\", encoding=\"utf-8\") as f:\n",
    "    vocabulary = [re.sub(r'\\s+\\d+$', '', line.strip().lower()) for line in f if line.strip()]\n",
    "\n",
    "\n",
    "\n",
    "# 3. Get embedding vectors for each word\n",
    "embeddings = []\n",
    "not_found_words = []\n",
    "for word in vocabulary:\n",
    "    if word in model:\n",
    "        embeddings.append(model[word])\n",
    "    else:\n",
    "        not_found_words.append(word)\n",
    "\n",
    "\n",
    "# Convert to numpy array and check shape\n",
    "embeddings = np.array(embeddings)\n",
    "print(f\"Embeddings shape: {embeddings.shape}\")\n",
    "\n",
    "# 4. Dimensionality reduction to 2D using PCA, t-SNE, and UMAP\n",
    "pca = PCA(n_components=2).fit_transform(embeddings)\n",
    "tsne = TSNE(n_components=2, perplexity=5, learning_rate=1, n_iter=5000).fit_transform(embeddings)  # setting iteration \n",
    "umap_result = umap.UMAP(n_neighbors=15, n_components=2).fit_transform(embeddings)\n",
    "\n",
    "# 5. Generate a projections list and convert all values ​​to standard float type\n",
    "projections = []\n",
    "for i, word in enumerate(vocabulary):\n",
    "    if word in model:\n",
    "        projections.append({\n",
    "            \"word\": word,\n",
    "            \"pca-0\": float(pca[i][0]),\n",
    "            \"pca-1\": float(pca[i][1]),\n",
    "            \"tsne-0\": float(tsne[i][0]),\n",
    "            \"tsne-1\": float(tsne[i][1]),\n",
    "            \"umap-0\": float(umap_result[i][0]),\n",
    "            \"umap-1\": float(umap_result[i][1])\n",
    "        })\n",
    "\n",
    "# 6. Define bookmark.json configuration\n",
    "bookmark_config = {\n",
    "    \"label\": \"State 0\",\n",
    "    \"isSelected\": True,\n",
    "    \"tSNEIteration\": 5000,  # Set a higher number of iterations\n",
    "    \"tSNEPerplexity\": 5,\n",
    "    \"tSNELearningRate\": 1,\n",
    "    \"tSNEis3d\": False,  # 2d\n",
    "    \"umapIs3d\": False, \n",
    "    \"umapNeighbors\": 15,\n",
    "    \"projections\": projections,\n",
    "    \"selectedProjection\": \"umap\",\n",
    "    \"dataSetDimensions\": [len(vocabulary), embeddings.shape[1]],\n",
    "    \"cameraDef\": {\n",
    "        \"orthographic\": True,\n",
    "        \"position\": [0, 0, 10],  # Set an initial position more suitable for 2D view\n",
    "        \"target\": [0, 0, 0],\n",
    "        \"zoom\": 1.2  # Set a zoom that is more suitable for 2D view\n",
    "    },\n",
    "    \"selectedColorOptionName\": \"category\",\n",
    "    \"selectedLabelOption\": \"word\"\n",
    "}\n",
    "\n",
    "# 7. Output bookmark.json\n",
    "with open(\"sorted_final_combined_dict.json\", \"w\") as json_file:\n",
    "    json.dump(bookmark_config, json_file, indent=4)\n",
    "\n",
    "\n",
    "\n",
    "\n",
    "\n",
    "\n"
   ]
  },
  {
   "cell_type": "code",
   "execution_count": null,
   "id": "f043a45e-9edf-4495-bf84-80965537c0a9",
   "metadata": {},
   "outputs": [],
   "source": []
  }
 ],
 "metadata": {
  "kernelspec": {
   "display_name": "Python 3 (ipykernel)",
   "language": "python",
   "name": "python3"
  },
  "language_info": {
   "codemirror_mode": {
    "name": "ipython",
    "version": 3
   },
   "file_extension": ".py",
   "mimetype": "text/x-python",
   "name": "python",
   "nbconvert_exporter": "python",
   "pygments_lexer": "ipython3",
   "version": "3.12.7"
  }
 },
 "nbformat": 4,
 "nbformat_minor": 5
}
